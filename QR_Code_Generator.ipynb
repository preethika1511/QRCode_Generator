{
 "cells": [
  {
   "cell_type": "code",
   "execution_count": 2,
   "id": "162c4fda-f70c-402e-b5d1-93f0b686f616",
   "metadata": {},
   "outputs": [],
   "source": [
    "#install qrcode library by running 'pip install qrcode'\n",
    "import qrcode\n",
    "\n",
    "#qrcode.make() is for creating a QR Code\n",
    "my_qr=qrcode.make(\"https://github.com/preethika1511\",box_size=12,border=2)\n",
    "my_qr.save(\"Github_QR.png\")\n"
   ]
  }
 ],
 "metadata": {
  "kernelspec": {
   "display_name": "Python 3 (ipykernel)",
   "language": "python",
   "name": "python3"
  },
  "language_info": {
   "codemirror_mode": {
    "name": "ipython",
    "version": 3
   },
   "file_extension": ".py",
   "mimetype": "text/x-python",
   "name": "python",
   "nbconvert_exporter": "python",
   "pygments_lexer": "ipython3",
   "version": "3.12.7"
  }
 },
 "nbformat": 4,
 "nbformat_minor": 5
}
